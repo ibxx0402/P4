{
 "cells": [
  {
   "cell_type": "code",
   "execution_count": null,
   "id": "2def859a-2a9d-4957-8a0e-a1c9af495da8",
   "metadata": {},
   "outputs": [],
   "source": [
    "!sudo apt-get update\n",
    "!sudo apt-get install -y python3-opencv python3-numpy python3-matplotlib python3-pip\n",
    "!pip3 install torch torchvision torchaudio\n",
    "%pip install opencv-python numpy matplotlib torch torchvision torchaudio\n",
    "!python -m pip install -U scikit-image"
   ]
  },
  {
   "cell_type": "code",
   "execution_count": 1,
   "id": "65a09f5d-1c92-4982-8a6b-a4bf89aa4d44",
   "metadata": {},
   "outputs": [
    {
     "name": "stdout",
     "output_type": "stream",
     "text": [
      "5\n",
      "6\n",
      "4\n",
      "5iameter:  9 images left:  10\n",
      "6\n",
      "4\n",
      "diameter:  9 images left:  10"
     ]
    }
   ],
   "source": [
    "from Denoise_test.bilateralfilter_test import main as bilateral_test\n",
    "\n",
    "bilateral_test()\n"
   ]
  },
  {
   "cell_type": "code",
   "execution_count": null,
   "id": "03dd6f7a-e374-4c7e-95d3-5df65611cc59",
   "metadata": {},
   "outputs": [],
   "source": []
  }
 ],
 "metadata": {
  "kernelspec": {
   "display_name": "Python 3 ",
   "language": "python",
   "name": "python3"
  },
  "language_info": {
   "codemirror_mode": {
    "name": "ipython",
    "version": 3
   },
   "file_extension": ".py",
   "mimetype": "text/x-python",
   "name": "python",
   "nbconvert_exporter": "python",
   "pygments_lexer": "ipython3",
   "version": "3.12.9"
  }
 },
 "nbformat": 4,
 "nbformat_minor": 5
}

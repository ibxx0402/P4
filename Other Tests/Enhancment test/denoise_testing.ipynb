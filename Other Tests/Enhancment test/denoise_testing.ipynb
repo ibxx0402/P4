{
 "cells": [
  {
   "cell_type": "code",
   "execution_count": null,
   "id": "39a47839",
   "metadata": {},
   "outputs": [],
   "source": [
    "!sudo apt-get update\n",
    "!sudo apt-get install -y python3-opencv python3-numpy python3-matplotlib python3-pip\n",
    "!pip3 install torch torchvision torchaudio\n",
    "%pip install opencv-python numpy matplotlib torch torchvision torchaudio\n",
    "!python -m pip install -U scikit-image"
   ]
  },
  {
   "cell_type": "code",
   "execution_count": 1,
   "id": "5c890d32",
   "metadata": {},
   "outputs": [
    {
     "name": "stdout",
     "output_type": "stream",
     "text": [
      "images left:  10"
     ]
    }
   ],
   "source": [
    "import os \n",
    "import numpy as np\n",
    "from Denoise_test.denoise_image import denoise_image\n",
    "\n",
    "\n",
    "img_path = \"Images\"\n",
    "# define kernel sizes to test\n",
    "noise_list = [5, 10, 15, 20] # noise levels to test\n",
    "denoise_kernel_list = [5, 7] # must be odd numbers\n",
    "denoise_sigma_list = [0.5, 1.7, 0.1]\n",
    "\n",
    "\n",
    "unsharp_sigma_list = [0.4, 1.1, 0.1] #(1.1-0.3)/0.1 = 8\n",
    "unsharp_strength_list = [3, 5, 0.1] #(3.3-2-1)/0.1 = 12\n",
    "\n",
    "high_pass_sigma_list = [0.3, 1.5, 0.1] #(1.1-0.3)/0.1 = 8\n",
    "\n",
    "type_list = [\"denoise\", \"unsharp\", \"high_pass\"]\n",
    "\n",
    "for noise_strength in noise_list:\n",
    "    \n",
    "    # denoise the image using different parameters\n",
    "    denoise_score_array, sharp_score_array, high_pass_score_array, noisy_image, original_image, image_count = denoise_image(denoise_kernel_list, denoise_sigma_list, noise_strength, unsharp_strength_list, unsharp_sigma_list, high_pass_sigma_list, img_path)\n",
    "    \n",
    "    # calculate the average ssim values\n",
    "    avg_denoise_score = denoise_score_array.copy()  \n",
    "    avg_denoise_score[:, 0:2] /= image_count  # Only average SSIM and PSNR columns\n",
    "\n",
    "    avg_unsharp_score = sharp_score_array.copy()\n",
    "    avg_unsharp_score[:, 0:2] /= image_count  \n",
    "\n",
    "    avg_high_pass_score = high_pass_score_array.copy()\n",
    "    avg_high_pass_score[:, 0:2] /= image_count  \n",
    "\n",
    "    # save avg ssim values to a file (flatten to avoid brackets)\n",
    "    for method in type_list:\n",
    "        with open(f\"gaussian_test_files/{method}_avg_score_{noise_strength}.npy\", \"wb\") as f:\n",
    "            if method == \"denoise\":\n",
    "                np.save(f, avg_denoise_score)\n",
    "            \n",
    "            elif method == \"unsharp\":\n",
    "                np.save(f, avg_unsharp_score)\n",
    "            \n",
    "            elif method == \"high_pass\":\n",
    "                np.save(f, avg_high_pass_score)\n"
   ]
  },
  {
   "cell_type": "code",
   "execution_count": null,
   "id": "bf050af4-fabe-4eaa-bcb9-cd31a8163bae",
   "metadata": {},
   "outputs": [],
   "source": []
  }
 ],
 "metadata": {
  "kernelspec": {
   "display_name": "Python 3 ",
   "language": "python",
   "name": "python3"
  },
  "language_info": {
   "codemirror_mode": {
    "name": "ipython",
    "version": 3
   },
   "file_extension": ".py",
   "mimetype": "text/x-python",
   "name": "python",
   "nbconvert_exporter": "python",
   "pygments_lexer": "ipython3",
   "version": "3.12.9"
  }
 },
 "nbformat": 4,
 "nbformat_minor": 5
}

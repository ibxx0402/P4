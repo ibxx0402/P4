{
 "cells": [
  {
   "cell_type": "code",
   "execution_count": null,
   "id": "fccc0878-d007-4326-8c9a-75f5fe0d638d",
   "metadata": {},
   "outputs": [],
   "source": [
    "!sudo apt-get update\n",
    "!sudo apt-get install -y python3-opencv python3-numpy python3-matplotlib python3-pip\n",
    "!pip3 install torch torchvision torchaudio\n",
    "%pip install opencv-python numpy matplotlib torch torchvision torchaudio\n",
    "!python -m pip install -U scikit-image"
   ]
  },
  {
   "cell_type": "code",
   "execution_count": 1,
   "id": "91efca54-4940-43e4-8bc8-a4fedf806a50",
   "metadata": {},
   "outputs": [
    {
     "name": "stdout",
     "output_type": "stream",
     "text": [
      "4\n",
      "4\n",
      "3\n",
      "4\n",
      "total size: 192\n",
      "4mages left:  10\n",
      "4\n",
      "3\n",
      "4\n",
      "total size: 192\n",
      "4mages left:  10\n",
      "4\n",
      "3\n",
      "4\n",
      "total size: 192\n",
      "4mages left:  10\n",
      "4\n",
      "3\n",
      "4\n",
      "total size: 192\n",
      "4mages left:  10\n",
      "4\n",
      "3\n",
      "4\n",
      "total size: 192\n",
      "images left:  10"
     ]
    }
   ],
   "source": [
    "from Denoise_test.fastnlmeans_test import main as fastnlmeans\n",
    "fastnlmeans()"
   ]
  },
  {
   "cell_type": "code",
   "execution_count": null,
   "id": "7eb0696f-4dfe-499f-8eef-5994a96802f1",
   "metadata": {},
   "outputs": [],
   "source": []
  }
 ],
 "metadata": {
  "kernelspec": {
   "display_name": "Python 3 ",
   "language": "python",
   "name": "python3"
  },
  "language_info": {
   "codemirror_mode": {
    "name": "ipython",
    "version": 3
   },
   "file_extension": ".py",
   "mimetype": "text/x-python",
   "name": "python",
   "nbconvert_exporter": "python",
   "pygments_lexer": "ipython3",
   "version": "3.12.9"
  }
 },
 "nbformat": 4,
 "nbformat_minor": 5
}
